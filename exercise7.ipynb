{
 "cells": [
  {
   "cell_type": "markdown",
   "metadata": {},
   "source": [
    "#   Exercise: Lecture 7\n",
    "##   Data Fluency | Fall 2024\n",
    "##   October 19, 2024\n",
    "##   Student: Joseph Juarez\n",
    "***"
   ]
  },
  {
   "cell_type": "markdown",
   "metadata": {},
   "source": [
    "## Part 1: Practice print() function and variable:"
   ]
  },
  {
   "cell_type": "code",
   "execution_count": 1,
   "metadata": {},
   "outputs": [
    {
     "name": "stdout",
     "output_type": "stream",
     "text": [
      "Hello, I223 student, please come to the classroom right now\n"
     ]
    }
   ],
   "source": [
    "# 1. Use print() function display the following content:\n",
    "#    \"Hello, I223 student, please come to the classroom right now.\"\n",
    "\n",
    "print(\"Hello, I223 student, please come to the classroom right now.\")"
   ]
  },
  {
   "cell_type": "code",
   "execution_count": 7,
   "metadata": {},
   "outputs": [
    {
     "name": "stdout",
     "output_type": "stream",
     "text": [
      "currently you are 56, you will turn 100 around the year: 2068\n"
     ]
    }
   ],
   "source": [
    "# 2. Create a program that asks the user to enter their name and their age.\n",
    "#    Print out a message addressed to them that tells them the year that they will turn 100 years old.\n",
    "\n",
    "try:\n",
    "    age = int(input(\"Enter Age: \"))\n",
    "\n",
    "    if age >= 100:\n",
    "        print(\"You are already 100 or over!\")\n",
    "    else:\n",
    "        print(f\"currently you are {age}, you will turn 100 around the year: {2024+(100-age)}\")\n",
    "\n",
    "except ValueError:\n",
    "    print(\"Error with value, make sure its an integer.\")"
   ]
  },
  {
   "cell_type": "code",
   "execution_count": 13,
   "metadata": {},
   "outputs": [
    {
     "name": "stdout",
     "output_type": "stream",
     "text": [
      "1. Hello, I223 student, please come to the classroom right now.\n",
      "\n",
      "2. Hello, I223 student, please come to the classroom right now.\n",
      "\n",
      "3. Hello, I223 student, please come to the classroom right now.\n",
      "\n",
      "4. Hello, I223 student, please come to the classroom right now.\n",
      "\n"
     ]
    }
   ],
   "source": [
    "# Extras\n",
    "# 1. Add on to the previous program by asking the user for another number and printing out that many copies of the previous message.\n",
    "# 2. Print out that many copies of the previous message on separate lines. (Hint: the string \"\\n is the same as pressing the ENTER button).\n",
    "\n",
    "try:\n",
    "    number = int(input(\"Enter An Integer: \"))\n",
    "\n",
    "    for i in range(number):\n",
    "        print(f\"{i+1}. Hello, I223 student, please come to the classroom right now.\\n\")\n",
    "\n",
    "except ValueError:\n",
    "    print(\"Error with value, make sure its an integer.\")"
   ]
  },
  {
   "cell_type": "markdown",
   "metadata": {},
   "source": [
    "***"
   ]
  },
  {
   "cell_type": "markdown",
   "metadata": {},
   "source": [
    "## Part 2: Practice the conditional expressions:"
   ]
  },
  {
   "cell_type": "code",
   "execution_count": 16,
   "metadata": {},
   "outputs": [
    {
     "name": "stdout",
     "output_type": "stream",
     "text": [
      "Odd\n"
     ]
    }
   ],
   "source": [
    "# Part 2 Practice the conditional expressions\n",
    "\n",
    "# Odd or Even\n",
    "# 1. Ask the user for a number. \n",
    "#    Depending on whether the number is even or odd, \n",
    "#    print out an appropriate message to the user. \n",
    "#    Hint: how does an even / odd number react differently when divided by 2?\n",
    "\n",
    "try:\n",
    "    number = int(input(\"Enter a number: \"))\n",
    "\n",
    "    if number % 2 == 0:\n",
    "        print(\"Even\")\n",
    "    else:\n",
    "        print(\"Odd\")\n",
    "\n",
    "except ValueError:\n",
    "    print(\"Error with value, make sure its an integer.\")"
   ]
  },
  {
   "cell_type": "code",
   "execution_count": 20,
   "metadata": {},
   "outputs": [
    {
     "name": "stdout",
     "output_type": "stream",
     "text": [
      "Even\n",
      "9 divides evenly with 3\n"
     ]
    }
   ],
   "source": [
    "# EXTRA: \n",
    "\n",
    "# 1. If the number is a multiple of 4, print out a different message.\n",
    "\n",
    "try:\n",
    "    print(\"EXTRA 1\")\n",
    "    number = int(input(\"Enter a number: \"))\n",
    "\n",
    "    if number % 4 == 0:\n",
    "        print(\"Multiple of 4\")\n",
    "    elif number % 2 == 0:\n",
    "        print(\"Even\")\n",
    "    else:\n",
    "        print(\"Odd\")\n",
    "\n",
    "except ValueError:\n",
    "    print(\"Error with value, make sure its an integer.\")\n",
    "\n",
    "\n",
    "\n",
    "# 2. Ask the user for two numbers: one number to check (call it num ) and one number to \n",
    "#    divide by ( check ). If check divides evenly into num , tell that to the user. \n",
    "#    If not, print a different appropriate message.\n",
    "\n",
    "try:\n",
    "    print(\"\\nEXTRA 2\")\n",
    "    num = int(input(\"Enter a number: \"))\n",
    "    check = int(input(\"Enter a number: \"))\n",
    "\n",
    "\n",
    "    if num % check == 0:\n",
    "        print(f\"{num} divides evenly with {check}\")\n",
    "    else:\n",
    "        print(f\"{num} does not divide evenly with {check}\")\n",
    "\n",
    "except ValueError:\n",
    "    print(\"Error with value, make sure its an integer.\")"
   ]
  }
 ],
 "metadata": {
  "kernelspec": {
   "display_name": "Python 3",
   "language": "python",
   "name": "python3"
  },
  "language_info": {
   "codemirror_mode": {
    "name": "ipython",
    "version": 3
   },
   "file_extension": ".py",
   "mimetype": "text/x-python",
   "name": "python",
   "nbconvert_exporter": "python",
   "pygments_lexer": "ipython3",
   "version": "3.12.4"
  }
 },
 "nbformat": 4,
 "nbformat_minor": 2
}
