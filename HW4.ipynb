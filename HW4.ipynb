{
 "cells": [
  {
   "cell_type": "markdown",
   "id": "c63843f0",
   "metadata": {},
   "source": [
    "#   Homework 4\n",
    "#   Data Fluency | Fall 2024\n",
    "#   October 19, 2024\n",
    "#   Student: Joseph Juarez"
   ]
  },
  {
   "cell_type": "code",
   "execution_count": 12,
   "id": "6e29f0fd-01a0-4010-baf0-a40a8e8a4001",
   "metadata": {},
   "outputs": [
    {
     "name": "stdout",
     "output_type": "stream",
     "text": [
      "Hours:  40\n",
      "Rate:  5\n"
     ]
    },
    {
     "name": "stdout",
     "output_type": "stream",
     "text": [
      "\n",
      "\tHours: 40.0\n",
      "\tRate: $5.0 Per Hour\n",
      "\n",
      "\t[Regular Pay]\n",
      "\tPay: $200.00\n"
     ]
    }
   ],
   "source": [
    "#QUESTION 1: \n",
    "# Write a program to prompt the user for hours and rate per hour to compute gross pay.\n",
    "\n",
    "hours = float(input(\"Hours: \"))\n",
    "\n",
    "rate = float(input(\"Rate: \"))\n",
    "\n",
    "print(f\"\\n\\tHours: {hours}\")\n",
    "print(f\"\\tRate: ${rate} Per Hour\\n\")\n",
    "\n",
    "# IF GREATER THAN 40.\n",
    "if hours > 40:\n",
    "    print(\"\\t[OverTime Reached]\")\n",
    "    hoursOT = hours - 40\n",
    "    regularHours = hours - hoursOT\n",
    "    print(f\"\\tOverTime Hours: {hoursOT}\")\n",
    "    pay = (regularHours * rate) + (1.5*(rate*hoursOT))\n",
    "    print(f\"\\tPay: ${pay:.2f}\")\n",
    "    \n",
    "# IF NOT, DONT ADD EXTRA OVERTIME.\n",
    "else:\n",
    "    print(\"\\t[Regular Pay]\")\n",
    "    pay = (hours * rate)\n",
    "    print(f\"\\tPay: ${pay:.2f}\")"
   ]
  },
  {
   "cell_type": "code",
   "execution_count": 15,
   "id": "d0df960d-74aa-4003-8a9c-52565195e7c9",
   "metadata": {},
   "outputs": [
    {
     "name": "stdout",
     "output_type": "stream",
     "text": [
      "\tHours: 4.0\n",
      "\tRate: $4.0 Per Hour\n",
      "\n",
      "\t[Regular Pay]\n",
      "\tPay: $16.00\n"
     ]
    }
   ],
   "source": [
    "# QUESTION 2: \n",
    "# Improve your grogram in Question 1 by adding try and except.\n",
    "# If a non-numeric input is submitted, your program should print a message and exit the program.\n",
    "\n",
    "try: \n",
    "    hours = float(input(\"Hours: \"))\n",
    "    \n",
    "    rate = float(input(\"Rate: \"))\n",
    "\n",
    "    print(f\"\\n\\tHours: {hours}\")\n",
    "    print(f\"\\tRate: ${rate} Per Hour\\n\")\n",
    "\n",
    "    # IF GREATER THAN 40.\n",
    "    if hours > 40:\n",
    "        print(\"\\t[OverTime Reached]\")\n",
    "        hoursOT = hours - 40\n",
    "        regularHours = hours - hoursOT\n",
    "        print(f\"\\tOverTime Hours: {hoursOT}\")\n",
    "        pay = (regularHours * rate) + (1.5*(rate*hoursOT))\n",
    "        print(f\"\\tPay: ${pay:.2f}\")\n",
    "    \n",
    "    # IF NOT, DONT ADD EXTRA OVERTIME.\n",
    "    else:\n",
    "        print(\"\\t[Regular Pay]\")\n",
    "        pay = (hours * rate)\n",
    "        print(f\"\\tPay: ${pay:.2f}\")\n",
    "\n",
    "except ValueError:\n",
    "    print(\"\\tEnter a VALID numeric number!\")"
   ]
  },
  {
   "cell_type": "code",
   "execution_count": 16,
   "id": "f69fe9e0-8320-4ad9-81ae-32cc4383f639",
   "metadata": {},
   "outputs": [
    {
     "name": "stdout",
     "output_type": "stream",
     "text": [
      "Enter Score:  .5\n"
     ]
    },
    {
     "name": "stdout",
     "output_type": "stream",
     "text": [
      "\n",
      "\tScore Entered: 0.5\n",
      "\n",
      "\t\tF\n"
     ]
    }
   ],
   "source": [
    "# QUESTION 3 \n",
    "# Write a program to prompt for a score between 0.0 and 1.0. \n",
    "# If the score is out of range print an error. \n",
    "# If the score is between 0.0 and 1.0, print a grade using the following table:\n",
    "try:\n",
    "    score = float(input(\"Enter Score: \"))\n",
    "    # 0 Less/equal SCORE less/equal 1\n",
    "    if 0 <= score <= 1:\n",
    "        print(f\"\\n\\tScore: {score}\")\n",
    "        if score >= .90:\n",
    "            print(\"\\t\\tA\")\n",
    "        elif score >= .80:\n",
    "            print(\"\\t\\tB\")\n",
    "        elif score >= .70:\n",
    "            print(\"\\t\\tC\")\n",
    "        elif score >= .60:\n",
    "            print(\"\\t\\tD\")\n",
    "        else:\n",
    "            print(\"\\t\\tF\")\n",
    "    else:\n",
    "        print(f\"\\n\\tValue Entered Is Under 0 Or Over 1, Try Again.\")        \n",
    "\n",
    "except ValueError:\n",
    "    print(\"\\tEnter a VALID numeric number!\")"
   ]
  },
  {
   "cell_type": "code",
   "execution_count": 18,
   "id": "be6a5c34-2578-4cc4-8fd8-bfb34148f6c5",
   "metadata": {},
   "outputs": [
    {
     "name": "stdout",
     "output_type": "stream",
     "text": [
      "Enter Meters:  640\n"
     ]
    },
    {
     "name": "stdout",
     "output_type": "stream",
     "text": [
      "Inches: 25196.85\n",
      "Feet: 2099.74\n",
      "Yards: 699.91\n",
      "Miles: 0.3977\n"
     ]
    }
   ],
   "source": [
    "# QUESTION 4\n",
    "#   Make a program where you set a length given in meters and then compute and write \n",
    "#   out the corresponding length measured in inches, in feet, in yards, and in miles. \n",
    "#   Use that one inch is 2.54cm, one foot is 12 inches, one yard is 3 feet, and one mile is 1760 yards.\n",
    "\n",
    "#   For verification, a length of 640 meters corresponds to 25196.85 inches, 2099.74 feet, 699.91 yards, or 0.3977 miles.\n",
    "\n",
    "try:\n",
    "    meters = float(input(\"Enter Meters: \"))\n",
    "    \n",
    "    cm = meters * 100\n",
    "    \n",
    "    inches = cm/2.54\n",
    "    feet = inches / 12\n",
    "    yards = feet / 3\n",
    "    miles = yards / 1760\n",
    "\n",
    "    print(f\"Inches: {inches:.2f}\")\n",
    "    print(f\"Feet: {feet:.2f}\")\n",
    "    print(f\"Yards: {yards:.2f}\")\n",
    "    print(f\"Miles: {miles:.4f}\")\n",
    "\n",
    "except ValueError:\n",
    "    print(\"\\tEnter a VALID number!\")"
   ]
  },
  {
   "cell_type": "code",
   "execution_count": 7,
   "id": "f72bf99b",
   "metadata": {},
   "outputs": [
    {
     "name": "stdout",
     "output_type": "stream",
     "text": [
      "Enter Principal:  1000\n",
      "Enter Years:  3\n",
      "Enter Interest Rate:  5\n"
     ]
    },
    {
     "name": "stdout",
     "output_type": "stream",
     "text": [
      "\n",
      "\tPrincipal: $1000.00\n",
      "\tTime: 3.0 Years\n",
      "\tRate: 5.0%\n",
      "\n",
      "\tCompound Interest: $1157.63\n"
     ]
    }
   ],
   "source": [
    "# QUESTION 5:\n",
    "# Let p be a bank’s interest rate in percent per year. An initial amount \"p\" has then grown to\n",
    "#                           p( 1 + r / 100 )^t\n",
    "# after \"t\" years with a \"r\" for interest rate. \n",
    "# Make a program for computing how much money 1000 dollars have grown to after 3 years with 5 percent interest rate.\n",
    "# Use compound interest formula shown above.\n",
    "\n",
    "try:\n",
    "    p = float(input(\"Enter Principal: \"))\n",
    "\n",
    "    t = float(input(\"Enter Years: \"))\n",
    "\n",
    "    r = float(input(\"Enter Interest Rate: \"))\n",
    "    \n",
    "    print(f\"\\n\\tPrincipal: ${p:.2f}\")    \n",
    "    print(f\"\\tTime: {t} Years\")    \n",
    "    print(f\"\\tRate: {r}%\")\n",
    "\n",
    "    compoundInterest = p * (1 + r / 100) ** t\n",
    "    print(f\"\\n\\tCompound Interest: ${compoundInterest:.2f}\")\n",
    "    \n",
    "except ValueError:\n",
    "        print(\"\\tEnter a VALID number!\")"
   ]
  }
 ],
 "metadata": {
  "kernelspec": {
   "display_name": "Python 3 (ipykernel)",
   "language": "python",
   "name": "python3"
  },
  "language_info": {
   "codemirror_mode": {
    "name": "ipython",
    "version": 3
   },
   "file_extension": ".py",
   "mimetype": "text/x-python",
   "name": "python",
   "nbconvert_exporter": "python",
   "pygments_lexer": "ipython3",
   "version": "3.12.4"
  }
 },
 "nbformat": 4,
 "nbformat_minor": 5
}
