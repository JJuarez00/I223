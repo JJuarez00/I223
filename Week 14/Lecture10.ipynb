{
 "cells": [
  {
   "cell_type": "markdown",
   "metadata": {},
   "source": [
    "#   **Exercise: Lecture 10**\n",
    "##   Data Fluency | Fall 2024\n",
    "##   November 26, 2024\n",
    "##   Student: Joseph Juarez"
   ]
  },
  {
   "cell_type": "markdown",
   "metadata": {},
   "source": [
    "---"
   ]
  },
  {
   "cell_type": "markdown",
   "metadata": {},
   "source": [
    "## **1. Dictionary exercise 1**\n",
    "\n",
    "#### Dictionaries can be iterated over, just like a list.\n",
    "#### Give a code segment like the below\n",
    "\n",
    "    phonebook = {\"John\" : 938477566,\"Jack\" : 938377264,\"Jill\" : 947662781}\n",
    "    for______________ in ____________:\n",
    "    print(____________________)"
   ]
  },
  {
   "cell_type": "code",
   "execution_count": 17,
   "metadata": {},
   "outputs": [
    {
     "name": "stdout",
     "output_type": "stream",
     "text": [
      "John: 938477566\n",
      "Jack: 938377264\n",
      "Jill: 947662781\n"
     ]
    }
   ],
   "source": [
    "phonebook = {\n",
    "    \"John\": 938477566,\n",
    "    \"Jack\": 938377264,\n",
    "    \"Jill\": 947662781\n",
    "    }\n",
    "\n",
    "# print key and value (name and phone number)\n",
    "for name, phoneNum  in phonebook.items():\n",
    "    print(f\"{name}: {phoneNum}\")"
   ]
  },
  {
   "cell_type": "markdown",
   "metadata": {},
   "source": [
    "---"
   ]
  },
  {
   "cell_type": "markdown",
   "metadata": {},
   "source": [
    "## **2. Dictionary exercise 2**\n",
    "\n",
    "#### Add \"Jake\" to the phonebook with the phone number 938273443 in the above exercise, and remove Jill from the phonebook."
   ]
  },
  {
   "cell_type": "code",
   "execution_count": 28,
   "metadata": {},
   "outputs": [
    {
     "name": "stdout",
     "output_type": "stream",
     "text": [
      "John: 938477566\n",
      "Jack: 938377264\n",
      "Jill: 947662781\n",
      "\n",
      "\n",
      "John: 938477566\n",
      "Jack: 938377264\n",
      "Jake: 938273443\n"
     ]
    }
   ],
   "source": [
    "phonebook = {\n",
    "    \"John\": 938477566,\n",
    "    \"Jack\": 938377264,\n",
    "    \"Jill\": 947662781\n",
    "    }\n",
    "\n",
    "def loop(dic):\n",
    "    for key, value in dic.items():\n",
    "        print(f\"{key}: {value}\")\n",
    "\n",
    "loop(phonebook)\n",
    "print(\"\\n\")\n",
    "\n",
    "if \"Jake\" not in phonebook:\n",
    "    phonebook.update({\"Jake\": 938273443})\n",
    "else:\n",
    "    print(\"Jake is already listed in the phonebook.\")\n",
    "\n",
    "if \"Jill\" in phonebook:\n",
    "    del phonebook[\"Jill\"]\n",
    "\n",
    "loop(phonebook)"
   ]
  },
  {
   "cell_type": "markdown",
   "metadata": {},
   "source": [
    "---"
   ]
  },
  {
   "cell_type": "markdown",
   "metadata": {},
   "source": [
    "## **3. Dictionary exercise 3**\n",
    "\n",
    "#### For this exercise, we will keep track of when our friend’s birthdays are, and be able to find that information based on their name. \n",
    "#### Create a dictionary of names and birthdays. \n",
    "#### When you run your program it should ask the user to enter a name, and return the birthday of that person back to them."
   ]
  },
  {
   "cell_type": "code",
   "execution_count": 40,
   "metadata": {},
   "outputs": [
    {
     "name": "stdout",
     "output_type": "stream",
     "text": [
      "We have a list of peoples names, heres who we have: \n",
      "\tAlbert Einstein\n",
      "\tBenjamin Franklin\n",
      "\tAda Lovelace\n",
      "\tDonald Trump\n",
      "\tRowan Atkinson\n",
      "\n",
      "Albert Einstein: 03/14/1879\n",
      "\n",
      "Donald Trump: 06/14/1946\n",
      "\n",
      "Joe Mama is not in the list or name is typed incorrectly.\n",
      "\n",
      "Bryan Juarez is not in the list or name is typed incorrectly.\n",
      "\n",
      "Rowan Atkinson: 01/6/1955\n"
     ]
    }
   ],
   "source": [
    "birthdays = {\n",
    "    'Albert Einstein': '03/14/1879',\n",
    "    'Benjamin Franklin': '01/17/1706',\n",
    "    'Ada Lovelace': '12/10/1815',\n",
    "    'Donald Trump': '06/14/1946',\n",
    "    'Rowan Atkinson': '01/6/1955'\n",
    "    }\n",
    "\n",
    "print(\"We have a list of peoples names, heres who we have: \")\n",
    "for name in birthdays:\n",
    "    print(f\"\\t{name}\")\n",
    "\n",
    "while True:\n",
    "    try:\n",
    "        person = str(input(\"Whos birthday information do you need? Type `exit` to exit.\\n\"))\n",
    "        if person == \"exit\":\n",
    "            break\n",
    "        else:\n",
    "            i = 0\n",
    "            for name, date in birthdays.items():\n",
    "                if name == person:\n",
    "                    print(f\"\\n{name}: {date}\")\n",
    "                else: i += 1\n",
    "            if i > len(birthdays)-1:\n",
    "                print(f\"\\n{person} is not in the list or name is typed incorrectly.\")\n",
    "\n",
    "    except ValueError:\n",
    "        print(\"incorrect value type!\")"
   ]
  },
  {
   "cell_type": "markdown",
   "metadata": {},
   "source": [
    "---"
   ]
  },
  {
   "cell_type": "markdown",
   "metadata": {},
   "source": [
    "## **4. File exercise 1**\n",
    "\n",
    "#### Given a nameslist.txt file that has a list of a bunch of names, count how many of each name there are in the file, and print out the results to the screen.\n",
    "#### Hint: use dictionary to be a good data container in this exercise."
   ]
  },
  {
   "cell_type": "code",
   "execution_count": 56,
   "metadata": {},
   "outputs": [
    {
     "name": "stdout",
     "output_type": "stream",
     "text": [
      "{'Darth': 31, 'Luke': 15, 'Lea': 54}\n"
     ]
    }
   ],
   "source": [
    "file = open(\"nameslist.txt\", \"r\")\n",
    "\n",
    "names = {}\n",
    "\n",
    "for line in file:\n",
    "    name = line.strip()\n",
    "    \n",
    "    if name in names:\n",
    "        names[name] += 1\n",
    "    else:\n",
    "        names[name] = 1\n",
    "\n",
    "print(names)\n",
    "\n",
    "file.close()"
   ]
  }
 ],
 "metadata": {
  "kernelspec": {
   "display_name": "Python 3",
   "language": "python",
   "name": "python3"
  },
  "language_info": {
   "codemirror_mode": {
    "name": "ipython",
    "version": 3
   },
   "file_extension": ".py",
   "mimetype": "text/x-python",
   "name": "python",
   "nbconvert_exporter": "python",
   "pygments_lexer": "ipython3",
   "version": "3.12.4"
  }
 },
 "nbformat": 4,
 "nbformat_minor": 2
}
