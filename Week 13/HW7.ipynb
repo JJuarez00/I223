{
 "cells": [
  {
   "cell_type": "markdown",
   "metadata": {},
   "source": [
    "#   Homework 7\n",
    "#   Data Fluency | Fall 2024\n",
    "#   November 18, 2024\n",
    "#   Student: Joseph Juarez"
   ]
  },
  {
   "cell_type": "code",
   "execution_count": null,
   "metadata": {},
   "outputs": [
    {
     "name": "stdout",
     "output_type": "stream",
     "text": [
      "['SoIC', 'Data Fluency', 'Mon and Wednesday']\n",
      "SoIC Data Fluency Mon and Wednesday\n"
     ]
    }
   ],
   "source": [
    "# QUESTION 1 [COMPLETE]\n",
    "\n",
    "# Starting with an empty list, add the following three lists and print the final list.\n",
    "List1= [\"SoIC\"]\n",
    "List2= [\"Data Fluency\"]\n",
    "List3= [\"Mon and Wednesday\"]\n",
    "finalList = List1+List2+List3\n",
    "print(finalList)\n",
    "\n",
    "# When printed all together via join\n",
    "print(\" \".join(finalList))"
   ]
  },
  {
   "cell_type": "code",
   "execution_count": null,
   "metadata": {},
   "outputs": [
    {
     "name": "stdout",
     "output_type": "stream",
     "text": [
      "Sample Result: 2\n",
      "Result List: ['aba', '6226']\n"
     ]
    }
   ],
   "source": [
    "# QUESTION 2 [COMPLETE]\n",
    "\n",
    "# Write a Python program to count the number of strings where the string length is 3 or more and the first and last character are same from a given list of strings. \n",
    "# You may write a function that needs a parameter of list and your function should return the result to the caller. \n",
    "# You also need to write a few lines to call your defined function and print the result to the brower.\n",
    "\n",
    "def getSize(list, view, result):\n",
    "    for str in list:\n",
    "        # greater than or equal to 3 and 1st string character is equal to the last string character.\n",
    "        if len(str) >= 3 and str[0] == str[-1]:\n",
    "            view.append(str)\n",
    "            result += 1\n",
    "    return result\n",
    "\n",
    "sampleInput = [\"adfg\", \"op\", \"aba\", \"6226\"]\n",
    "viewResults = []\n",
    "sampleResult = 0\n",
    "\n",
    "print(f\"Sample Result: {getSize(sampleInput, viewResults, sampleResult)}\")\n",
    "print(f\"Result List: {viewResults}\")\n",
    "\n",
    "# EXPLANATION:\n",
    "#   adfg - [YES its >= than 3] [NO a != q]\n",
    "#   op - [NO its < 3] [NO o != p]\n",
    "#[✓]   aba - [YES its >= than 3] [YES a = a]\n",
    "#[✓]   6226 - [YES its >= than 3] [YES 6 = 6]\n"
   ]
  },
  {
   "cell_type": "code",
   "execution_count": null,
   "metadata": {},
   "outputs": [
    {
     "name": "stdout",
     "output_type": "stream",
     "text": [
      "1. Alex\n",
      "2. Jim\n",
      "3. Mary\n",
      "4. Annie\n",
      "5. Bob\n",
      "6. Tom\n",
      "7. Jill\n",
      "8. Hanna\n",
      "9. Juliet\n",
      "10. Mat\n",
      "11. Henry\n",
      "12. Zara\n",
      "13. Kara\n"
     ]
    }
   ],
   "source": [
    "# QUESTION 3 [COMPLETE]\n",
    "\n",
    "# Open a file “question3.txt”to write.\n",
    "#       1. In this file WRITE the names of the students: Alex,Jim, Mary, Annie, Bob, Tom, Jill, Hanna, Juliet, and Mat.\n",
    "#       Each name should be printed in new line. (3 points)\n",
    "\n",
    "#       2. Append the following names: Henry, Zara, Kara. Read and print the complete list. (3 points)\n",
    "\n",
    "file = open(\"question3.txt\", \"w\") #  w = WRITE (Opens a file for writing & overwrite any existing content).\n",
    "nameList1 = [\"Alex\", \"Jim\", \"Mary\", \"Annie\", \"Bob\", \"Tom\", \"Jill\", \"Hanna\", \"Juliet\", \"Mat\"]\n",
    "for names in nameList1:\n",
    "    file.write(f\"{names}\\n\")\n",
    "\n",
    "file = open(\"question3.txt\", \"a\") #  a = APPEND (Opens a file for appending & adding to the end of the file).\n",
    "nameList2 = [\"Henry\", \"Zara\", \"Kara\"]\n",
    "for names in nameList2:\n",
    "    file.write(f\"{names}\\n\")\n",
    "\n",
    "file = open(\"question3.txt\", \"r\") #  r = READ (Opens a file in order to read its content(s)).\n",
    "\n",
    "count = 1\n",
    "for names in file:\n",
    "    print(f\"{count}. {names.strip()}\") # strip used get rid of lines and white space.\n",
    "    count += 1\n",
    "\n",
    "file.close()"
   ]
  },
  {
   "cell_type": "code",
   "execution_count": null,
   "metadata": {},
   "outputs": [
    {
     "name": "stdout",
     "output_type": "stream",
     "text": [
      "{'stephen.marquard@uct.ac.za': 4, 'louis@media.berkeley.edu': 6, 'zqian@umich.edu': 8, 'rjlowe@iupui.edu': 4, 'cwen@iupui.edu': 10, 'gsilver@umich.edu': 6, 'wagnermr@iupui.edu': 2, 'antranig@caret.cam.ac.uk': 2, 'gopal.ramasammycook@gmail.com': 2, 'david.horwitz@uct.ac.za': 8, 'ray@media.berkeley.edu': 2}\n",
      "\n",
      "cwen@iupui.edu 10\n"
     ]
    }
   ],
   "source": [
    "# QUESTION 4 [COMPLETE]\n",
    "\n",
    "# Download the txt file “mbox-short.txt” from the homework folder on Canvas. Write a program to read through a mail log, and figure out who had the most messages in the file. \n",
    "# The program looks for “From” lines and takes the second parameter on those lines as the person who sent the mail.\n",
    "# The program creates a Python dictionary that maps the sender’s address to the total number of messages for that person. \n",
    "# After all the data has been read the program looks through the dictionary using a maximum loop to find who has the most messages and how many messages the person has.\n",
    "\n",
    "file = open(\"mbox-short.txt\", \"r\")\n",
    "\n",
    "tracker = {}\n",
    "\n",
    "for line in file:\n",
    "    if line.startswith(\"From\"):\n",
    "        words = line.split() # use split to seperate the words and put it in \"words\" since its list variable. this will help get the email.\n",
    "        email = words[1] # [1] is used since the email in located in the the first index due to \"from\" being the [0] index.\n",
    "        tracker[email] = tracker.get(email, 0) + 1 # if email doesnt exist add 0 but if there add 1.\n",
    "\n",
    "maxEmail = None\n",
    "maxMsg = 0\n",
    "\n",
    "# email is the key.\n",
    "# count is value & represents the number of msgs that was sent by the email.\n",
    "# items() grabs email (key) and count (value) for the loop.\n",
    "for email, count in tracker.items():\n",
    "    if count > maxMsg: \n",
    "        maxEmail = email # update the email value with higher value email.\n",
    "        maxMsg = count # update max msgs count\n",
    "\n",
    "print(tracker)\n",
    "\n",
    "print(f\"\\n{maxEmail} {maxMsg}\")"
   ]
  },
  {
   "cell_type": "code",
   "execution_count": 99,
   "metadata": {},
   "outputs": [
    {
     "name": "stdout",
     "output_type": "stream",
     "text": [
      "Unsorted Example:\n",
      "{'09': 2, '18': 1, '16': 4, '15': 2, '14': 1, '11': 6, '10': 3, '07': 1, '06': 1, '04': 3, '19': 1, '17': 2}\n",
      "\n",
      "Sorted Example:\n",
      "['04', '06', '07', '09', '10', '11', '14', '15', '16', '17', '18', '19']\n",
      "\n",
      "HOURS\n",
      "04 3\n",
      "06 1\n",
      "07 1\n",
      "09 2\n",
      "10 3\n",
      "11 6\n",
      "14 1\n",
      "15 2\n",
      "16 4\n",
      "17 2\n",
      "18 1\n",
      "19 1\n"
     ]
    }
   ],
   "source": [
    "# QUESTION 5\n",
    "\n",
    "# Download the txt file “mbox-short.txt” from the homework folder on Canvas. \n",
    "# This program counts the distribution of the hour of the day for each of the messages. \n",
    "# You can pull the hour from the “From” line by finding the time string and then splitting that string into parts using the colon character.\n",
    "# Once you have accumulated the counts for each hour, print out the counts, one per line, sorted by hour as shown below. \n",
    "# Sample Execution:\n",
    "#           04 3\n",
    "#           06 1\n",
    "#           07 1\n",
    "#           09 2\n",
    "#           10 3\n",
    "#           11 6\n",
    "#           14 1\n",
    "#           15 2\n",
    "#           16 4\n",
    "#           17 2\n",
    "#           18 1\n",
    "#           19 1\n",
    "\n",
    "file = open(\"mbox-short.txt\", \"r\")\n",
    "\n",
    "tracker = {}\n",
    "\n",
    "for line in file:\n",
    "    if line.startswith(\"From \"): #include space, since without it there would a IndexError.\n",
    "        words = line.split() # use split to seperate the words and put it in \"words\" since its list variable.\n",
    "        time = words[5] # [5] is used since thats where the time is located.\n",
    "        hour = time.split(':')[0]\n",
    "        tracker[hour] = tracker.get(hour, 0) + 1\n",
    "\n",
    "# example of unsorted and sorted tracker:\n",
    "print(f\"Unsorted Example:\\n{tracker}\\n\")\n",
    "print(f\"Sorted Example:\\n{sorted(tracker)}\\n\")\n",
    "\n",
    "print(\"HOURS\")\n",
    "for hour in sorted(tracker):\n",
    "    print(f\"{hour} {tracker[hour]}\")\n"
   ]
  }
 ],
 "metadata": {
  "kernelspec": {
   "display_name": "Python 3",
   "language": "python",
   "name": "python3"
  },
  "language_info": {
   "codemirror_mode": {
    "name": "ipython",
    "version": 3
   },
   "file_extension": ".py",
   "mimetype": "text/x-python",
   "name": "python",
   "nbconvert_exporter": "python",
   "pygments_lexer": "ipython3",
   "version": "3.12.4"
  }
 },
 "nbformat": 4,
 "nbformat_minor": 2
}
