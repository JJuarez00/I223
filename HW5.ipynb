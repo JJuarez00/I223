{
 "cells": [
  {
   "cell_type": "markdown",
   "metadata": {},
   "source": [
    "#   Homework 5\n",
    "#   Data Fluency | Fall 2024\n",
    "#   November 1, 2024\n",
    "#   Student: Joseph Juarez"
   ]
  },
  {
   "cell_type": "code",
   "execution_count": 3,
   "metadata": {},
   "outputs": [
    {
     "name": "stdout",
     "output_type": "stream",
     "text": [
      "\n",
      "\tHours: 45.0\n",
      "\tRate: $10.0 Per Hour\n",
      "\n",
      "\t[OverTime Reached]\n",
      "\tOverTime Hours: 5.0\n",
      "\tPay: $475.00\n"
     ]
    }
   ],
   "source": [
    "# QUESTION 1: \n",
    "# Rewrite your pay computation with 1.5 times for overtime and \n",
    "# create a function called computePay which takes two parameters (hours and rate).\n",
    "\n",
    "def computePay(hours, rate): \n",
    "    # PRINT HOURS & RATE.\n",
    "    print(f\"\\n\\tHours: {hours}\")\n",
    "    print(f\"\\tRate: ${rate} Per Hour\\n\")\n",
    "\n",
    "    # IF GREATER THAN 40.\n",
    "    if hours > 40:\n",
    "        print(\"\\t[OverTime Reached]\")\n",
    "        hoursOT = hours - 40\n",
    "        regularHours = hours - hoursOT\n",
    "        print(f\"\\tOverTime Hours: {hoursOT}\")\n",
    "        pay = (regularHours * rate) + (1.5*(rate*hoursOT))\n",
    "        print(f\"\\tPay: ${pay:.2f}\")\n",
    "    \n",
    "    # IF NOT, DONT ADD EXTRA OVERTIME.\n",
    "    else:\n",
    "        print(\"\\t[Regular Pay]\")\n",
    "        pay = (hours * rate)\n",
    "        print(f\"\\tPay: ${pay:.2f}\")\n",
    "        \n",
    "try:\n",
    "    hours = float(input(\"Hours: \"))\n",
    "    rate = float(input(\"Rate: \"))\n",
    "    computePay(hours, rate)\n",
    "\n",
    "except ValueError:\n",
    "    print(\"\\tEnter a VALID numeric number!\")"
   ]
  },
  {
   "cell_type": "code",
   "execution_count": 15,
   "metadata": {},
   "outputs": [
    {
     "name": "stdout",
     "output_type": "stream",
     "text": [
      "\n",
      "\tScore: 0.89\n",
      "\t\tB\n"
     ]
    }
   ],
   "source": [
    "# QUESTION 2\n",
    "# Rewrite the Question 3 as a function that is called computeGrade\n",
    "# that takes a score as its parameter and returns a grade as a string.\n",
    "\n",
    "def computeGrade(score):\n",
    "    # 0 Less/equal SCORE less/equal 1\n",
    "    if 0 <= score <= 1:\n",
    "        print(f\"\\n\\tScore: {score}\")\n",
    "        if score >= .90:\n",
    "            print(\"\\t\\tA\")\n",
    "        elif score >= .80:\n",
    "            print(\"\\t\\tB\")\n",
    "        elif score >= .70:\n",
    "            print(\"\\t\\tC\")\n",
    "        elif score >= .60:\n",
    "            print(\"\\t\\tD\")\n",
    "        else:\n",
    "            print(\"\\t\\tF\")\n",
    "    else:\n",
    "        print(f\"\\n\\tInvalid Input!\\n\\tValue Entered Is Under 0 Or Over 1, Try Again.\")\n",
    "\n",
    "try:\n",
    "    score = float(input(\"Enter Score: \"))\n",
    "    computeGrade(score)\n",
    "\n",
    "except ValueError:\n",
    "    print(\"\\tInvalid Input!\\n\\tEnter a VALID numeric number!\")"
   ]
  },
  {
   "cell_type": "code",
   "execution_count": 37,
   "metadata": {},
   "outputs": [
    {
     "name": "stdout",
     "output_type": "stream",
     "text": [
      "4.44444 Degrees Celsius convered to fahrenheit is 39.999992 Degrees Fahrenheit\n"
     ]
    }
   ],
   "source": [
    "# QUESTION 3\n",
    "# Write a program that contains a function with name CelToFah.\n",
    "# The function has a parameter that is the value of Celsius degree, and the\n",
    "# return value is the converted Fahrenheit degree. (Find the conversion formula).\n",
    "\n",
    "# When you call your function, write a program to prompt user to input a value. \n",
    "# And your program needs to handle the exceptions and print out the converted temperature.\n",
    "\n",
    "#  Formula: \n",
    "#           Fahrenheit = (Celsius * 9 / 5) + 32 \n",
    "\n",
    "def CelToFah(c):\n",
    "    fah = (c * 9/5 ) + 32\n",
    "    return fah\n",
    "\n",
    "try:\n",
    "    cel = float(input(\"Enter Celsius Value: \"))\n",
    "    answer = CelToFah(cel)\n",
    "    print(f\"{cel} Degrees Celsius convered to fahrenheit is {answer} Degrees Fahrenheit\")\n",
    "except ValueError:\n",
    "    print(\"Invalid Input!\\nTry Again.\")\n"
   ]
  },
  {
   "cell_type": "code",
   "execution_count": null,
   "metadata": {},
   "outputs": [
    {
     "name": "stdout",
     "output_type": "stream",
     "text": [
      "Total: 3.0\n",
      "Average: 1.5\n"
     ]
    }
   ],
   "source": [
    "# QUESTION 4\n",
    "\n",
    "# Write a program which repeatedly reads numbers until the user enters “done”. \n",
    "# Once “done” is entered, print out the total, count, and average (aka mean) of the numbers.\n",
    "#   If the user enters anything other than a number,\n",
    "#   detect the mistake by using try and except structure,\n",
    "#   and print an error message and skip to the next number.\n",
    "\n",
    "def totalAndMean(a):\n",
    "    total = sum(a)\n",
    "    mean = total / len(a)\n",
    "    return total, mean\n",
    "\n",
    "num = []\n",
    "\n",
    "while True:\n",
    "    a = input(\"Enter number (enter `done` to end): \")\n",
    "    if a == \"done\":\n",
    "        break\n",
    "\n",
    "    try:\n",
    "        number = float(a) # Convert number, here since \"done\" wont interfere here.\n",
    "        num.append(number)\n",
    "\n",
    "    except ValueError:\n",
    "        print(\"Invalid Input!\")\n",
    "\n",
    "total, mean = totalAndMean(num)\n",
    "print(f\"Total: {total}\\nAverage: {mean}\")"
   ]
  },
  {
   "cell_type": "code",
   "execution_count": null,
   "metadata": {},
   "outputs": [
    {
     "name": "stdout",
     "output_type": "stream",
     "text": [
      "Test Successful!\n"
     ]
    }
   ],
   "source": [
    "# QUESTION 5\n",
    "\n",
    "# 1.  Write a Python function sum_1k(M) that returns the Harmonic Sum.\n",
    "def harmonic_sum(m):\n",
    "    \n",
    "    return sum(1 / k for k in range(1, m + 1)) # used ChatGPT for the formula.\n",
    "\n",
    "m = 3\n",
    "s = harmonic_sum(m)\n",
    "\n",
    "# 2.  Compute s for M = 3 by hand and write another function test_sum_1k() that calls sum_1k(3) and checks that the answer is correct.\n",
    "#     When you call the sum_1k(3) function, you will see some messages according to if the test is successful or not.\n",
    "\n",
    "def test_sum_1k(m):\n",
    "    handWritten = 1 + 1/2 + 1/3\n",
    "    answer = harmonic_sum(m)\n",
    "\n",
    "    # abs() is used to avoid false failures in tests due to tiny rounding errors.\n",
    "    if abs(answer == handWritten):\n",
    "        print(\"Test Successful!\")\n",
    "    else:\n",
    "        print(\"Test Not Successful!\")\n",
    "\n",
    "test_sum_1k(m)\n"
   ]
  },
  {
   "cell_type": "code",
   "execution_count": null,
   "metadata": {},
   "outputs": [
    {
     "name": "stdout",
     "output_type": "stream",
     "text": [
      "Fahrenheit\tCelsius (Decimal Placement in the Thousandths)\n",
      "-------------------------------------------\n",
      "       0\t-17.778\n",
      "      10\t-12.222\n",
      "      20\t-6.667\n",
      "      30\t-1.111\n",
      "      40\t4.444\n",
      "      50\t10.000\n",
      "      60\t15.556\n",
      "      70\t21.111\n",
      "      80\t26.667\n",
      "      90\t32.222\n",
      "     100\t37.778\n"
     ]
    }
   ],
   "source": [
    "# QUESTION 6\n",
    "\n",
    "# Write a Python program that prints out a table with Fahrenheit degrees 0, 10, 20, . . . , 100 \n",
    "# in the first column and the corresponding Celsius degrees in the second column.\n",
    "\n",
    "def FahToCel(f):\n",
    "    cel = (f - 32) * 5 / 9\n",
    "    return cel\n",
    "\n",
    "print(\"Fahrenheit\\tCelsius (Decimal Placement in the Thousandths)\")\n",
    "print(\"-------------------------------------------\")\n",
    "\n",
    "# stop at 101 in ordered for 100 to be printed!\n",
    "\n",
    "# start at 0, and stop at 101, but 10 step size.\n",
    "for f in range(0, 101, 10):\n",
    "    c = FahToCel(f)\n",
    "    # f:># is the amount of spaces & :.3f is the decimal format.\n",
    "    print(f\"{f:>8}\\t{c:.3f}\")\n",
    "\n"
   ]
  },
  {
   "cell_type": "code",
   "execution_count": null,
   "metadata": {},
   "outputs": [
    {
     "name": "stdout",
     "output_type": "stream",
     "text": [
      "1\n",
      "3\n",
      "5\n",
      "7\n",
      "9\n"
     ]
    }
   ],
   "source": [
    "# QUESTION 7\n",
    "# Write a program that generates all odd numbers from 1 to n. Set n in the beginning of the program and use a while loop to compute the numbers. \n",
    "# (Make sure that if n is an even number, the largest generated odd number is n-1.) // Note: did not do this but did if even then add 1 then loop.\n",
    "\n",
    "start = 1\n",
    "end = 10    # Not sure what the end point is so I'll do 10.\n",
    "\n",
    "while start <= end:\n",
    "    print(start)\n",
    "    start+= 1\n",
    "    if start % 2 == 0:\n",
    "        start+= 1\n"
   ]
  }
 ],
 "metadata": {
  "kernelspec": {
   "display_name": "Python 3",
   "language": "python",
   "name": "python3"
  },
  "language_info": {
   "codemirror_mode": {
    "name": "ipython",
    "version": 3
   },
   "file_extension": ".py",
   "mimetype": "text/x-python",
   "name": "python",
   "nbconvert_exporter": "python",
   "pygments_lexer": "ipython3",
   "version": "3.12.4"
  }
 },
 "nbformat": 4,
 "nbformat_minor": 2
}
