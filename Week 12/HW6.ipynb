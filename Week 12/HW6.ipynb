{
 "cells": [
  {
   "cell_type": "markdown",
   "metadata": {},
   "source": [
    "#   Homework 6\n",
    "#   Data Fluency | Fall 2024\n",
    "#   November 14, 2024\n",
    "#   Student: Joseph Juarez"
   ]
  },
  {
   "cell_type": "code",
   "execution_count": 5,
   "metadata": {},
   "outputs": [
    {
     "name": "stdout",
     "output_type": "stream",
     "text": [
      "number Entered: 1\n",
      "number Entered: 2\n",
      "number Entered: 3\n",
      "number Entered: 4\n",
      "number Entered: 5\n",
      "error. make sure input value is an integer! \tvalue entered: `2024 music !`\n",
      "\n",
      "bye bye : (\n",
      "\n",
      "\tnumbers entered: [1, 2, 3, 4, 5]\n",
      "\tminimum number: 1\n",
      "\tmaximum number: 5\n"
     ]
    }
   ],
   "source": [
    "# QUESTION 1: Review the loop structures [COMPLETE]\n",
    "#   Write the program to store the numbers the user enters in a list and use proper Python build-in\n",
    "#   functions or loops to compute the maximum and minimum numbers after the loop completes.\n",
    "\n",
    "storage = []\n",
    "\n",
    "while True:\n",
    "    try:\n",
    "        userInput = str(input(\"Enter an INT, or type `done` to end program: \"))\n",
    "        \n",
    "        # make sure input has no blank spaces and makes the text lowercase.\n",
    "        userInput.strip()\n",
    "        userInput.lower()\n",
    "\n",
    "        if userInput.strip() == \"done\":\n",
    "            print(\"\\nbye bye : (\")\n",
    "            break\n",
    "\n",
    "        userInput = int(userInput)\n",
    "        print(F\"number Entered: {userInput}\")\n",
    "        storage.append(userInput)\n",
    "    \n",
    "    except ValueError:\n",
    "        print(f\"error. make sure input value is an integer! \\tvalue entered: `{userInput}`\")\n",
    "\n",
    "# if storage has something go on, but if empty let user know. \n",
    "if storage:\n",
    "    print(f\"\\n\\tnumbers entered: {storage}\")\n",
    "    print(f\"\\tminimum number: {min(storage)}\")\n",
    "    print(f\"\\tmaximum number: {max(storage)}\")\n",
    "else:\n",
    "    print(\"No numbers were entered.\")\n"
   ]
  },
  {
   "cell_type": "code",
   "execution_count": null,
   "metadata": {},
   "outputs": [
    {
     "name": "stdout",
     "output_type": "stream",
     "text": [
      "string index position: 18\n",
      "number is: 0.8475\n"
     ]
    }
   ],
   "source": [
    "# QUESTION 2: Strings [COMPLETE]\n",
    "\n",
    "# Given the following string, write a Python script to save it in a string variable.\n",
    "\n",
    "# str = 'X-DSPAM-Confidence: 0.8475'\n",
    "\n",
    "# Use find and string slicing to extract the portion of the string after the colon character \n",
    "# and then use the float function to convert the extracted string into a floating point number.\n",
    "\n",
    "str = 'X-DSPAM-Confidence: 0.8475'\n",
    "\n",
    "# find the position of the colon character;.\n",
    "findPosition = str.find(':')\n",
    "print(f\"string index position: {findPosition}\")\n",
    "\n",
    "# slice string, but add 1 to the index in order to not get \":\"\n",
    "# also add the strip method in order to remove whitespace!\n",
    "number_str = str[findPosition + 1:].strip()\n",
    "\n",
    "convertedValue = float(number_str)\n",
    "\n",
    "print(f\"number is: {convertedValue}\")"
   ]
  },
  {
   "cell_type": "code",
   "execution_count": null,
   "metadata": {},
   "outputs": [
    {
     "name": "stdout",
     "output_type": "stream",
     "text": [
      "34\n",
      "first five: super\n",
      "last five: cious\n",
      "`i` count: 7\n"
     ]
    }
   ],
   "source": [
    "# QUESTION 3: Strings [COMPLETE]\n",
    "# Given the string “supercalifragilisticexpialidocious”.\n",
    "#   1. What is the length of the string i.e. write the script to find the length? (2 points)\n",
    "#   2. Find the sub-string of first 5 positions and the other sub-string with last 5 positions. (4 points)\n",
    "#   3. Find how many times “i” occurs in this word. (6 points)\n",
    "\n",
    "str = \"supercalifragilisticexpialidocious\"\n",
    "\n",
    "#part1\n",
    "print((len(str)))\n",
    "\n",
    "#part2\n",
    "firstFive = str[:5]\n",
    "lastFive = str[-5:]\n",
    "print(f\"first five: {firstFive}\")\n",
    "print(f\"last five: {lastFive}\")\n",
    "\n",
    "#part3\n",
    "iCount = str.count(\"i\")\n",
    "print(f\"`i` count: {iCount}\")"
   ]
  },
  {
   "cell_type": "code",
   "execution_count": null,
   "metadata": {},
   "outputs": [
    {
     "name": "stdout",
     "output_type": "stream",
     "text": [
      "original: `Alex, EyeColor:Black, HairColor:black, Major: Math, School:SoIC`\n",
      "\n",
      "when splited and assigned: ['Alex', 'EyeColor:Black', 'HairColor:black', 'Major: Math', 'School:SoIC']\n",
      "\n",
      "Alex\n",
      "EyeColor:Black\n",
      "HairColor:black\n",
      "Major: Math\n",
      "School:SoIC\n"
     ]
    }
   ],
   "source": [
    "# QUESTION 4: Strings [COMPLETE]\n",
    "# Given the string “Alex, EyeColor:Black, HairColor:black, Major: Math, School:SoIC”. \n",
    "# Split the string according to a proper delimiter. Then display separated tokens after this splitting.\n",
    "\n",
    "str = \"Alex, EyeColor:Black, HairColor:black, Major: Math, School:SoIC\"\n",
    "print(f\"original: `{str}`\\n\")\n",
    "\n",
    "# split string by \", \" delimiter.\n",
    "tokens = str.split(\", \")\n",
    "\n",
    "# example of how it would look like.\n",
    "print(f\"when splited and assigned: {tokens}\\n\") \n",
    "\n",
    "# loop until every string is printed.\n",
    "for token in tokens:\n",
    "    print(token)\n",
    "\n",
    "\n",
    "\n"
   ]
  },
  {
   "cell_type": "code",
   "execution_count": null,
   "metadata": {},
   "outputs": [
    {
     "name": "stdout",
     "output_type": "stream",
     "text": [
      "PART 1\n",
      "['Whole', 'Lotta', 'Red', 'by', 'The', 'creator', 'of', 'MUSIC']\n",
      "['Lotta', 'Red', 'by', 'The', 'creator', 'of']\n",
      "\n",
      "PART 2\n",
      "['I', 'AM', 'MUSIC']\n",
      "['I', 'AM', 'MUSIC']\n",
      "['AM']\n",
      "\n",
      "PART 2 ALT\n",
      "['whae', 'schyeah', 'bih', 'what']\n",
      "['huhhuhhuhhuh', 'BOOBOOBBOOOOBOOOOM', 'babymoney']\n",
      "Middle Values: `bih` and `schyeah`\n",
      "Middle Value: BOOBOOBBOOOOBOOOOM\n"
     ]
    }
   ],
   "source": [
    "# QUESTION 5: List [COMPLETE]\n",
    "\n",
    "# PART 1:\n",
    "#   Write a function called chop that takes a list as a parameter and this function modifies \n",
    "#   the parameter, removing the first and last elements, and returns the modified list.\n",
    "#   After the implement this function, please pass lists to test the functionality of your chop function Prototype: chop(list)\n",
    "\n",
    "def chop(list): # delete the values from the list\n",
    "    del list[0]\n",
    "    del list[-1]\n",
    "    return list   \n",
    "\n",
    "print(\"PART 1\")\n",
    "partOne = [\"Whole\", \"Lotta\", \"Red\", \"by\", \"The\", \"creator\", \"of\", \"MUSIC\"]\n",
    "\n",
    "print(partOne)              \n",
    "chop(partOne)\n",
    "print(partOne)\n",
    "\n",
    "# PART 2:\n",
    "#   Then write a function called middle that takes a list and returns a new list that contains all elements but the first and last elements.\n",
    "#   After the implement this function, please pass lists to test the functionality of your middle function Prototype: middle(list).\n",
    "\n",
    "def middle(list): # temp remove the values from list but don't delete from the list.\n",
    "    return list[1:-1]\n",
    "\n",
    "print(\"\\nPART 2\")\n",
    "partTwo = [\"I\", \"AM\", \"MUSIC\"]\n",
    "\n",
    "print(partTwo)\n",
    "middle(partTwo) # apply function.\n",
    "print(partTwo) # as you see, the values where not deleted.\n",
    "print(middle(partTwo)) # here you can see the values where removed but not deleted when shown in a print statment.\n",
    "\n",
    "# PART 2 ALT:\n",
    "# Actually get middle values\n",
    "\n",
    "def middleALT(list):\n",
    "    getLength = len(list)\n",
    "    if getLength % 2 == 0:\n",
    "        # even then there will be 2 middle numbers.\n",
    "        id = getLength // 2\n",
    "        return (f\"Middle Values: `{list[id]}` and `{list[id-1]}`\")\n",
    "    else:\n",
    "        # odd then there is only 1 middle number.\n",
    "        id = getLength // 2\n",
    "        return (f\"Middle Value: {list[id]}\")\n",
    "\n",
    "print(\"\\nPART 2 ALT\")\n",
    "evenList = [\"whae\", \"schyeah\", \"bih\", \"what\"]\n",
    "oddList = [\"huhhuhhuhhuh\", \"BOOBOOBBOOOOBOOOOM\", \"babymoney\"]\n",
    "\n",
    "print(evenList)\n",
    "print(oddList)\n",
    "print(middleALT(evenList))\n",
    "print(middleALT(oddList))"
   ]
  }
 ],
 "metadata": {
  "kernelspec": {
   "display_name": "Python 3",
   "language": "python",
   "name": "python3"
  },
  "language_info": {
   "codemirror_mode": {
    "name": "ipython",
    "version": 3
   },
   "file_extension": ".py",
   "mimetype": "text/x-python",
   "name": "python",
   "nbconvert_exporter": "python",
   "pygments_lexer": "ipython3",
   "version": "3.12.4"
  }
 },
 "nbformat": 4,
 "nbformat_minor": 2
}
