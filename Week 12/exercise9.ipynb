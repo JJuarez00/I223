{
 "cells": [
  {
   "cell_type": "markdown",
   "metadata": {},
   "source": [
    "#   Exercise: Lecture 9\n",
    "#   Data Fluency | Fall 2024\n",
    "#   November 11, 2024\n",
    "#   Student: Joseph Juarez"
   ]
  },
  {
   "cell_type": "markdown",
   "metadata": {},
   "source": [
    "This site came in clutch:\n",
    "https://www.hackerearth.com/practice/notes/samarthbhargav/a-quick-intro-to-indexing-in-python/"
   ]
  },
  {
   "cell_type": "code",
   "execution_count": null,
   "metadata": {},
   "outputs": [
    {
     "name": "stdout",
     "output_type": "stream",
     "text": [
      "Length of s = 20\n",
      "The first occurrence of the letter a = 8\n",
      "a occurs 2 times\n",
      "The first five characters are 'Strin'\n",
      "The next five characters are 'gs ar'\n",
      "The thirteenth character is 'a'\n",
      "The characters with odd index are 'tig r wsm!'\n",
      "The last five characters are 'some!'\n",
      "String in uppercase: STRINGS ARE AWESOME!\n",
      "String starts with 'Str'. Good!\n",
      "String ends with 'ome!'. Good!\n",
      "Split the words of the string: ['Strings', 'are', 'awesome!']\n"
     ]
    }
   ],
   "source": [
    "# 1. String operations [COMPLETE]\n",
    "\n",
    "# Try to fix the code to print out the correct information by changing the string.\n",
    "# Hint: use three words in this string (awesome, are, string). You need to use proper order,\n",
    "#       upper/lower case for some letters, and proper plurals for some words. Make a few tries!\n",
    "\n",
    "s = \"Strings are awesome!\" # revise this string [FIXED]\n",
    "\n",
    "# Length should be 20 [CORRECT]\n",
    "print(\"Length of s = %d\" % len(s))\n",
    "\n",
    "# First occurrence of \"a\" should be at index 8 [CORRECT]\n",
    "# 0[S] 1[t] 2[r] 3[i] 4[n] 5[g] 6[s] 7[ ] 8[a] 9[r] 10[e] 11[ ] 12[a] 13[w] 14[e] 15[s] 16[o] 17[m] 18[e] 19[!] {20 Items total}\n",
    "print(\"The first occurrence of the letter a = %d\" % s.index(\"a\"))\n",
    "\n",
    "# Number of a's should be 2 [CORRECT]\n",
    "print(\"a occurs %d times\" % s.count(\"a\"))\n",
    "\n",
    "# Slicing the string into bits [CORRECT]\n",
    "print(\"The first five characters are '%s'\" % s[:5]) # Start to 5\n",
    "print(\"The next five characters are '%s'\" % s[5:10]) # 5 to 10\n",
    "print(\"The thirteenth character is '%s'\" % s[12]) # Just number 12\n",
    "print(\"The characters with odd index are '%s'\" %s[1::2]) #(0-based indexing)\n",
    "print(\"The last five characters are '%s'\" % s[-5:]) # 5th-from-last to end\n",
    "\n",
    "# Convert everything to uppercase [CORRECT]\n",
    "print(\"String in uppercase: %s\" % s.upper())\n",
    "\n",
    "# Check how a string starts, and if true print [CORRECT]\n",
    "if s.startswith(\"Str\"):\n",
    "    print(\"String starts with 'Str'. Good!\")\n",
    "\n",
    "# Check how a string ends, and if true print [CORRECT]\n",
    "if s.endswith(\"ome!\"):\n",
    "    print(\"String ends with 'ome!'. Good!\")\n",
    "\n",
    "# Split the string into three separate strings, each containing only a word [CORRECT]\n",
    "print(\"Split the words of the string: %s\" % s.split(\" \"))\n"
   ]
  },
  {
   "cell_type": "code",
   "execution_count": null,
   "metadata": {},
   "outputs": [
    {
     "name": "stdout",
     "output_type": "stream",
     "text": [
      "Hello John Doe. Your current balance is $53.44.\n"
     ]
    }
   ],
   "source": [
    "# 2. String formatting [COMPLETE]\n",
    "\n",
    "# You will need to write a format string which prints out the data using the following syntax:\n",
    "#                                              \"Hello John Doe. Your current balance is $53.44.\"\n",
    "\n",
    "#   %s is STR\n",
    "#   %g is FLOAT\n",
    "#   %d is DECIMAL\n",
    "\n",
    "data = (\"John\", \"Doe\", 53.44)\n",
    "format_string = \"Hello %s %s. Your current balance is $%g.\"\n",
    "print(format_string % data)"
   ]
  },
  {
   "cell_type": "code",
   "execution_count": 22,
   "metadata": {},
   "outputs": [
    {
     "name": "stdout",
     "output_type": "stream",
     "text": [
      "This string is a palindrome.\n"
     ]
    }
   ],
   "source": [
    "# 3. Palindrome string test [COMPLETE]\n",
    "\n",
    "# Ask the user for a string and print out whether this string is a palindrome or not.\n",
    "#              (A palindrome is a string that reads the same forwards and backwards.)\n",
    "\n",
    "userInput = input(\"Enter string: \")\n",
    "\n",
    "# Example:\n",
    "#            NOT a palindrome \"cat\"\n",
    "#            IS a palindrome \"civic\"\n",
    "\n",
    "# To reverse use:\n",
    "#                    example[::-1]\n",
    "#                    -1 is used since it starts at the end of the array and goes back.\n",
    "#                    so \"example[::-1]\" reverses the string.\n",
    "\n",
    "if userInput == userInput[::-1]:\n",
    "    print(\"This string is a palindrome.\")\n",
    "else:\n",
    "    print(\"This string is not a palindrome.\")\n",
    "\n",
    "#Test:\n",
    "# print(f\"{userInput[::-1]}\")\n"
   ]
  },
  {
   "cell_type": "code",
   "execution_count": 38,
   "metadata": {},
   "outputs": [
    {
     "name": "stdout",
     "output_type": "stream",
     "text": [
      "Normal: 2024 MUSIC\n",
      "Reversed: MUSIC 2024\n"
     ]
    }
   ],
   "source": [
    "# 4. Reverse Word Order [COMPLETE]\n",
    "\n",
    "# Write a program (using functions!) that asks the user for a long string containing multiple words.\n",
    "# Print back to the user the same string, except with the words in backwards order. \n",
    "# For example, say I type the string:\n",
    "#                                     My name is Michele\n",
    "# Then I would see the string:\n",
    "#                                     Michele is name My\n",
    "\n",
    "def reverse(a):\n",
    "    words = a.split() # seperates words and puts it into list\n",
    "    reverseWords = words[::-1] # call the list and reverse it\n",
    "    delimiter = \" \" \n",
    "    return delimiter.join(reverseWords)\n",
    "\n",
    "try:\n",
    "    userInput = str(input(\"Enter some words\"))\n",
    "    print(f\"Normal: {userInput}\")\n",
    "    print(f\"Reversed: {reverse(userInput)}\")\n",
    "except ValueError:\n",
    "    print(\"Error, make sure its a string!\")"
   ]
  },
  {
   "cell_type": "code",
   "execution_count": null,
   "metadata": {},
   "outputs": [
    {
     "name": "stdout",
     "output_type": "stream",
     "text": [
      "Original\n",
      "[1, 1, 2, 3, 5, 8, 13, 21, 34, 55, 89]\n",
      "\n",
      "Less than 5\n",
      "[1, 1, 2, 3]\n",
      "\n",
      "Less than 14\n",
      "[1, 1, 2, 3, 5, 8, 13]\n"
     ]
    }
   ],
   "source": [
    "# 5. List operation exercise 1 [COMPLETE]\n",
    "# Take a list, say for example this one:\n",
    "#                                       a = [1, 1, 2, 3, 5, 8, 13, 21, 34, 55, 89]\n",
    "\n",
    "# Write a program that prints out all the elements of the list that are LESS THAN 5.\n",
    "# EXTRAS:\n",
    "#      - Instead of printing the elements one by one, make a new list that has all the elements less than 5 from this list in it and print out this new list.\n",
    "#      - Ask the user for a number and return a list that contains only elements from the original list a that are smaller than that number given by the user.\n",
    "\n",
    "a = [1, 1, 2, 3, 5, 8, 13, 21, 34, 55, 89]\n",
    "print(f\"Original\\n{a}\")\n",
    "\n",
    "newList1 = []\n",
    "for n in a:\n",
    "    if n < 5:\n",
    "        newList1.append(n)\n",
    "print(f\"\\nLess than 5\\n{newList1}\")\n",
    "\n",
    "# Ask User\n",
    "try: \n",
    "    newList2 = []\n",
    "    userInput = int(input(\"Enter an INT number: \"))\n",
    "    \n",
    "    for n in a:\n",
    "        if n < userInput:\n",
    "            newList2.append(n)\n",
    "    print(f\"\\nLess than {userInput}\\n{newList2}\")\n",
    "except ValueError:\n",
    "    print(\"Error, make sure it an INT\")"
   ]
  },
  {
   "cell_type": "code",
   "execution_count": 41,
   "metadata": {},
   "outputs": [
    {
     "name": "stdout",
     "output_type": "stream",
     "text": [
      "[1, 2, 3]\n",
      "['hello', 'world']\n",
      "The second name on the names list is Eric\n"
     ]
    }
   ],
   "source": [
    "# 6. List operation exercise 2 [COMPLETE]\n",
    "\n",
    "numbers = []\n",
    "strings = []\n",
    "names = [\"John\", \"Eric\", \"Jessica\"]\n",
    "\n",
    "# In this exercise, you will need to add numbers and strings to the correct lists using the \"append\" list method. \n",
    "# You must add the numbers 1,2, and 3 to the \"numbers\" list, and the words 'hello' and 'world' to the strings variable.\n",
    "numbers.append(1)\n",
    "numbers.append(2)\n",
    "numbers.append(3)\n",
    "\n",
    "strings.append(\"hello\")\n",
    "strings.append(\"world\")\n",
    "\n",
    "\n",
    "# You will also have to fill in the variable second_name with the second name in the names list, using the brackets operator [].\n",
    "# Note that the index is zero-based, so if you want to access the second item in the list, its index will be 1.\n",
    "second_name = names[1]\n",
    "\n",
    "\n",
    "# this code should write out the filled arrays and the second name in the names\n",
    "print(numbers)\n",
    "print(strings)\n",
    "print(\"The second name on the names list is %s\" % second_name)"
   ]
  },
  {
   "cell_type": "code",
   "execution_count": null,
   "metadata": {},
   "outputs": [
    {
     "name": "stdout",
     "output_type": "stream",
     "text": [
      "List 1: 14 Total Values\n",
      "List 2: 11 Total Values\n",
      "\n",
      "First List: [1, 4, 4, 5, 6, 8, 10, 11, 14, 14, 15, 15, 17, 20]\n",
      "Second List: [1, 7, 8, 8, 13, 17, 21, 21, 21, 21, 23]\n",
      "\n",
      "Common Numbers: [1, 8, 17]\n"
     ]
    }
   ],
   "source": [
    "# 7. List operation exercise 3 [COMPLETE]\n",
    "\n",
    "# Take two lists, say for example these two:\n",
    "#                                           a = [1, 1, 2, 3, 5, 8, 13, 21, 34, 55, 89]\n",
    "#                                           b = [1, 2, 3, 4, 5, 6, 7, 8, 9, 10, 11, 12, 13]\n",
    "\n",
    "# write a program that returns a list that contains only the elements that are common between the lists (without duplicates). \n",
    "# Make sure your program works on two lists of different sizes.\n",
    "\n",
    "# EXTRA:\n",
    "#       - Randomly generate two lists to test this.\n",
    "\n",
    "import random\n",
    "\n",
    "list1 = []\n",
    "list2 = []\n",
    "\n",
    "finish = 0\n",
    "\n",
    "while True:\n",
    "    start = 1\n",
    "    endPoint = random.randint(6, 15)\n",
    "    print(f\"List {finish + 1}: {endPoint - 1} Total Values\")\n",
    "\n",
    "    currentList = list1 if finish == 0 else list2\n",
    "\n",
    "    while start != endPoint:\n",
    "        currentList.append(random.randint(1, 25))\n",
    "        start += 1\n",
    "    \n",
    "    finish += 1\n",
    "\n",
    "    if finish == 2:\n",
    "        break\n",
    "\n",
    "newList = []\n",
    "\n",
    "# Check for any common numbers\n",
    "for n in list1:\n",
    "    if n in list2:\n",
    "        newList.append(n)\n",
    "\n",
    "\n",
    "list1.sort()\n",
    "list2.sort()\n",
    "newList.sort()\n",
    "\n",
    "# If nothing in common, then change value to print out \"Nothing in Common\"\n",
    "if not newList:\n",
    "    newList = \"Nothing in Common\"\n",
    "\n",
    "print(f\"\\nFirst List: {list1}\")\n",
    "print(f\"Second List: {list2}\")\n",
    "print(f\"\\nCommon Numbers: {newList}\")"
   ]
  },
  {
   "cell_type": "code",
   "execution_count": null,
   "metadata": {},
   "outputs": [
    {
     "name": "stdout",
     "output_type": "stream",
     "text": [
      "[4, 16, 36, 64, 100]\n"
     ]
    }
   ],
   "source": [
    "# 8. List operation exercise 4 [COMPLETE]\n",
    "\n",
    "# Let’s say I give you a list saved in a variable: \n",
    "#                                                 a = [1, 4, 9, 16, 25, 36, 49, 64, 81, 100]\n",
    "\n",
    "# Write one line of Python that takes this list a and makes a new list that has only the even elements of this list in it.\n",
    "\n",
    "a = [1, 4, 9, 16, 25, 36, 49, 64, 81, 100]\n",
    "even = [numb for numb in a if numb % 2 == 0]\n",
    "print(even)"
   ]
  }
 ],
 "metadata": {
  "kernelspec": {
   "display_name": "Python 3",
   "language": "python",
   "name": "python3"
  },
  "language_info": {
   "codemirror_mode": {
    "name": "ipython",
    "version": 3
   },
   "file_extension": ".py",
   "mimetype": "text/x-python",
   "name": "python",
   "nbconvert_exporter": "python",
   "pygments_lexer": "ipython3",
   "version": "3.12.4"
  }
 },
 "nbformat": 4,
 "nbformat_minor": 2
}
